{
 "cells": [
  {
   "cell_type": "code",
   "execution_count": 1,
   "metadata": {},
   "outputs": [
    {
     "name": "stdout",
     "output_type": "stream",
     "text": [
      "Collecting notebook\n",
      "  Downloading notebook-6.1.5-py3-none-any.whl (9.5 MB)\n",
      "\u001b[K     |████████████████████████████████| 9.5 MB 157 kB/s eta 0:00:01\n",
      "\u001b[?25hRequirement already satisfied, skipping upgrade: jinja2 in /Users/hazimmohamed/opt/anaconda3/lib/python3.8/site-packages (from notebook) (2.11.2)\n",
      "Requirement already satisfied, skipping upgrade: traitlets>=4.2.1 in /Users/hazimmohamed/opt/anaconda3/lib/python3.8/site-packages (from notebook) (4.3.3)\n",
      "Requirement already satisfied, skipping upgrade: Send2Trash in /Users/hazimmohamed/opt/anaconda3/lib/python3.8/site-packages (from notebook) (1.5.0)\n",
      "Requirement already satisfied, skipping upgrade: ipython-genutils in /Users/hazimmohamed/opt/anaconda3/lib/python3.8/site-packages (from notebook) (0.2.0)\n",
      "Collecting argon2-cffi\n",
      "  Using cached argon2_cffi-20.1.0-cp37-abi3-macosx_10_6_intel.whl (65 kB)\n",
      "Requirement already satisfied, skipping upgrade: pyzmq>=17 in /Users/hazimmohamed/opt/anaconda3/lib/python3.8/site-packages (from notebook) (19.0.1)\n",
      "Requirement already satisfied, skipping upgrade: nbformat in /Users/hazimmohamed/opt/anaconda3/lib/python3.8/site-packages (from notebook) (5.0.7)\n",
      "Requirement already satisfied, skipping upgrade: jupyter-client>=5.3.4 in /Users/hazimmohamed/opt/anaconda3/lib/python3.8/site-packages (from notebook) (6.1.6)\n",
      "Requirement already satisfied, skipping upgrade: terminado>=0.8.3 in /Users/hazimmohamed/opt/anaconda3/lib/python3.8/site-packages (from notebook) (0.8.3)\n",
      "Requirement already satisfied, skipping upgrade: prometheus-client in /Users/hazimmohamed/opt/anaconda3/lib/python3.8/site-packages (from notebook) (0.8.0)\n",
      "Requirement already satisfied, skipping upgrade: tornado>=5.0 in /Users/hazimmohamed/opt/anaconda3/lib/python3.8/site-packages (from notebook) (6.0.4)\n",
      "Requirement already satisfied, skipping upgrade: jupyter-core>=4.6.1 in /Users/hazimmohamed/opt/anaconda3/lib/python3.8/site-packages (from notebook) (4.6.3)\n",
      "Requirement already satisfied, skipping upgrade: ipykernel in /Users/hazimmohamed/opt/anaconda3/lib/python3.8/site-packages (from notebook) (5.3.2)\n",
      "Requirement already satisfied, skipping upgrade: nbconvert in /Users/hazimmohamed/opt/anaconda3/lib/python3.8/site-packages (from notebook) (5.6.1)\n",
      "Requirement already satisfied, skipping upgrade: MarkupSafe>=0.23 in /Users/hazimmohamed/opt/anaconda3/lib/python3.8/site-packages (from jinja2->notebook) (1.1.1)\n",
      "Requirement already satisfied, skipping upgrade: six in /Users/hazimmohamed/opt/anaconda3/lib/python3.8/site-packages (from traitlets>=4.2.1->notebook) (1.15.0)\n",
      "Requirement already satisfied, skipping upgrade: decorator in /Users/hazimmohamed/opt/anaconda3/lib/python3.8/site-packages (from traitlets>=4.2.1->notebook) (4.4.2)\n",
      "Requirement already satisfied, skipping upgrade: cffi>=1.0.0 in /Users/hazimmohamed/opt/anaconda3/lib/python3.8/site-packages (from argon2-cffi->notebook) (1.14.0)\n",
      "Requirement already satisfied, skipping upgrade: jsonschema!=2.5.0,>=2.4 in /Users/hazimmohamed/opt/anaconda3/lib/python3.8/site-packages (from nbformat->notebook) (3.2.0)\n",
      "Requirement already satisfied, skipping upgrade: python-dateutil>=2.1 in /Users/hazimmohamed/opt/anaconda3/lib/python3.8/site-packages (from jupyter-client>=5.3.4->notebook) (2.8.1)\n",
      "Requirement already satisfied, skipping upgrade: appnope; platform_system == \"Darwin\" in /Users/hazimmohamed/opt/anaconda3/lib/python3.8/site-packages (from ipykernel->notebook) (0.1.0)\n",
      "Requirement already satisfied, skipping upgrade: ipython>=5.0.0 in /Users/hazimmohamed/opt/anaconda3/lib/python3.8/site-packages (from ipykernel->notebook) (7.16.1)\n",
      "Requirement already satisfied, skipping upgrade: bleach in /Users/hazimmohamed/opt/anaconda3/lib/python3.8/site-packages (from nbconvert->notebook) (3.1.5)\n",
      "Requirement already satisfied, skipping upgrade: mistune<2,>=0.8.1 in /Users/hazimmohamed/opt/anaconda3/lib/python3.8/site-packages (from nbconvert->notebook) (0.8.4)\n",
      "Requirement already satisfied, skipping upgrade: testpath in /Users/hazimmohamed/opt/anaconda3/lib/python3.8/site-packages (from nbconvert->notebook) (0.4.4)\n",
      "Requirement already satisfied, skipping upgrade: defusedxml in /Users/hazimmohamed/opt/anaconda3/lib/python3.8/site-packages (from nbconvert->notebook) (0.6.0)\n",
      "Requirement already satisfied, skipping upgrade: pygments in /Users/hazimmohamed/opt/anaconda3/lib/python3.8/site-packages (from nbconvert->notebook) (2.6.1)\n",
      "Requirement already satisfied, skipping upgrade: entrypoints>=0.2.2 in /Users/hazimmohamed/opt/anaconda3/lib/python3.8/site-packages (from nbconvert->notebook) (0.3)\n",
      "Requirement already satisfied, skipping upgrade: pandocfilters>=1.4.1 in /Users/hazimmohamed/opt/anaconda3/lib/python3.8/site-packages (from nbconvert->notebook) (1.4.2)\n",
      "Requirement already satisfied, skipping upgrade: pycparser in /Users/hazimmohamed/opt/anaconda3/lib/python3.8/site-packages (from cffi>=1.0.0->argon2-cffi->notebook) (2.20)\n",
      "Requirement already satisfied, skipping upgrade: attrs>=17.4.0 in /Users/hazimmohamed/opt/anaconda3/lib/python3.8/site-packages (from jsonschema!=2.5.0,>=2.4->nbformat->notebook) (19.3.0)\n",
      "Requirement already satisfied, skipping upgrade: setuptools in /Users/hazimmohamed/opt/anaconda3/lib/python3.8/site-packages (from jsonschema!=2.5.0,>=2.4->nbformat->notebook) (49.2.0.post20200714)\n",
      "Requirement already satisfied, skipping upgrade: pyrsistent>=0.14.0 in /Users/hazimmohamed/opt/anaconda3/lib/python3.8/site-packages (from jsonschema!=2.5.0,>=2.4->nbformat->notebook) (0.16.0)\n",
      "Requirement already satisfied, skipping upgrade: backcall in /Users/hazimmohamed/opt/anaconda3/lib/python3.8/site-packages (from ipython>=5.0.0->ipykernel->notebook) (0.2.0)\n",
      "Requirement already satisfied, skipping upgrade: jedi>=0.10 in /Users/hazimmohamed/opt/anaconda3/lib/python3.8/site-packages (from ipython>=5.0.0->ipykernel->notebook) (0.17.1)\n",
      "Requirement already satisfied, skipping upgrade: prompt-toolkit!=3.0.0,!=3.0.1,<3.1.0,>=2.0.0 in /Users/hazimmohamed/opt/anaconda3/lib/python3.8/site-packages (from ipython>=5.0.0->ipykernel->notebook) (3.0.5)\n",
      "Requirement already satisfied, skipping upgrade: pexpect; sys_platform != \"win32\" in /Users/hazimmohamed/opt/anaconda3/lib/python3.8/site-packages (from ipython>=5.0.0->ipykernel->notebook) (4.8.0)\n",
      "Requirement already satisfied, skipping upgrade: pickleshare in /Users/hazimmohamed/opt/anaconda3/lib/python3.8/site-packages (from ipython>=5.0.0->ipykernel->notebook) (0.7.5)\n",
      "Requirement already satisfied, skipping upgrade: packaging in /Users/hazimmohamed/opt/anaconda3/lib/python3.8/site-packages (from bleach->nbconvert->notebook) (20.4)\n",
      "Requirement already satisfied, skipping upgrade: webencodings in /Users/hazimmohamed/opt/anaconda3/lib/python3.8/site-packages (from bleach->nbconvert->notebook) (0.5.1)\n",
      "Requirement already satisfied, skipping upgrade: parso<0.8.0,>=0.7.0 in /Users/hazimmohamed/opt/anaconda3/lib/python3.8/site-packages (from jedi>=0.10->ipython>=5.0.0->ipykernel->notebook) (0.7.0)\n",
      "Requirement already satisfied, skipping upgrade: wcwidth in /Users/hazimmohamed/opt/anaconda3/lib/python3.8/site-packages (from prompt-toolkit!=3.0.0,!=3.0.1,<3.1.0,>=2.0.0->ipython>=5.0.0->ipykernel->notebook) (0.2.5)\n",
      "Requirement already satisfied, skipping upgrade: ptyprocess>=0.5 in /Users/hazimmohamed/opt/anaconda3/lib/python3.8/site-packages (from pexpect; sys_platform != \"win32\"->ipython>=5.0.0->ipykernel->notebook) (0.6.0)\n",
      "Requirement already satisfied, skipping upgrade: pyparsing>=2.0.2 in /Users/hazimmohamed/opt/anaconda3/lib/python3.8/site-packages (from packaging->bleach->nbconvert->notebook) (2.4.7)\n",
      "Installing collected packages: argon2-cffi, notebook\n",
      "  Attempting uninstall: notebook\n",
      "    Found existing installation: notebook 6.0.3\n",
      "    Uninstalling notebook-6.0.3:\n",
      "      Successfully uninstalled notebook-6.0.3\n",
      "Successfully installed argon2-cffi-20.1.0 notebook-6.1.5\n"
     ]
    },
    {
     "ename": "ModuleNotFoundError",
     "evalue": "No module named 'twitter'",
     "output_type": "error",
     "traceback": [
      "\u001b[0;31m---------------------------------------------------------------------------\u001b[0m",
      "\u001b[0;31mModuleNotFoundError\u001b[0m                       Traceback (most recent call last)",
      "\u001b[0;32m<ipython-input-1-6f61723e139a>\u001b[0m in \u001b[0;36m<module>\u001b[0;34m\u001b[0m\n\u001b[1;32m      2\u001b[0m \u001b[0mget_ipython\u001b[0m\u001b[0;34m(\u001b[0m\u001b[0;34m)\u001b[0m\u001b[0;34m.\u001b[0m\u001b[0msystem\u001b[0m\u001b[0;34m(\u001b[0m\u001b[0;34m'{sys.executable} -m pip install notebook --upgrade'\u001b[0m\u001b[0;34m)\u001b[0m\u001b[0;34m\u001b[0m\u001b[0;34m\u001b[0m\u001b[0m\n\u001b[1;32m      3\u001b[0m \u001b[0;34m\u001b[0m\u001b[0m\n\u001b[0;32m----> 4\u001b[0;31m \u001b[0;32mimport\u001b[0m \u001b[0mtwitter\u001b[0m\u001b[0;34m\u001b[0m\u001b[0;34m\u001b[0m\u001b[0m\n\u001b[0m\u001b[1;32m      5\u001b[0m \u001b[0;34m\u001b[0m\u001b[0m\n\u001b[1;32m      6\u001b[0m \u001b[0;31m# initialize api instance\u001b[0m\u001b[0;34m\u001b[0m\u001b[0;34m\u001b[0m\u001b[0;34m\u001b[0m\u001b[0m\n",
      "\u001b[0;31mModuleNotFoundError\u001b[0m: No module named 'twitter'"
     ]
    }
   ],
   "source": [
    "import sys\n",
    "!{sys.executable} -m pip install notebook --upgrade\n",
    "\n",
    "import twitter\n",
    "\n",
    "# initialize api instance\n",
    "twitter_api = twitter.Api(consumer_key='MA2UZIPKf5acnH8XwTwNBFo9p',\n",
    "                        consumer_secret='d5Opx5bR1wURwosBgTPB3JwqrcYQl5fgKDYa26va5vmlIV8Wui',\n",
    "                        access_token_key='1219699677236473856-gOJApJQmDT1pJ2LckCHP9HnS9QX09f',\n",
    "                        access_token_secret='zYE7yFxdji62VukkMruYszts4AW0d0RdCtLROWKtqhVYY')\n",
    "\n",
    "# test authentication\n",
    "print(twitter_api.VerifyCredentials())\n"
   ]
  },
  {
   "cell_type": "code",
   "execution_count": null,
   "metadata": {},
   "outputs": [],
   "source": []
  }
 ],
 "metadata": {
  "kernelspec": {
   "display_name": "Python 3",
   "language": "python",
   "name": "python3"
  },
  "language_info": {
   "codemirror_mode": {
    "name": "ipython",
    "version": 3
   },
   "file_extension": ".py",
   "mimetype": "text/x-python",
   "name": "python",
   "nbconvert_exporter": "python",
   "pygments_lexer": "ipython3",
   "version": "3.8.3"
  }
 },
 "nbformat": 4,
 "nbformat_minor": 2
}
